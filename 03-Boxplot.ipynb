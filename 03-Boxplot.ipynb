{
 "cells": [
  {
   "cell_type": "code",
   "execution_count": 1,
   "metadata": {},
   "outputs": [
    {
     "name": "stderr",
     "output_type": "stream",
     "text": [
      "Matplotlib is building the font cache; this may take a moment.\n"
     ]
    }
   ],
   "source": [
    "# Import libraries \n",
    "import matplotlib.pyplot as plt \n",
    "import numpy as np "
   ]
  },
  {
   "cell_type": "code",
   "execution_count": 10,
   "metadata": {},
   "outputs": [
    {
     "data": {
      "text/plain": [
       "array([126.63173008, 114.30557949,  69.09199416,  99.832323  ,\n",
       "       112.42671948,  85.59828879, 105.31023171, 102.17097051,\n",
       "       100.08582862,  96.50799579, 108.6605238 , 124.06074748,\n",
       "        80.69868659, 120.56548156, 104.5726026 , 108.90275226,\n",
       "        77.26795576, 102.70273757, 129.69074004,  78.40390228,\n",
       "        60.44543439,  65.13255408, 105.32140328, 147.69934661,\n",
       "       122.47382507, 133.45244427, 101.98298432, 127.95992754,\n",
       "        94.57504024, 112.2640837 ,  94.65365623,  89.01381972,\n",
       "       102.65416592,  90.4771597 , 126.16946162, 103.90026558,\n",
       "       108.00419977,  93.24735326, 125.12944528,  85.36060996,\n",
       "       113.20463102,  92.98256217,  81.2113328 ,  90.21325566,\n",
       "        83.90817715,  95.74604723,  93.21719508, 106.24339873,\n",
       "       111.30305339,  97.05159485,  99.48189326, 105.78188408,\n",
       "        89.20241857, 114.1632004 , 116.84449477, 104.07161595,\n",
       "       147.8940733 , 118.34917875,  97.75455058,  92.75639106,\n",
       "        95.35635488,  89.96542201, 122.57570306,  86.04379939,\n",
       "        98.37755632,  89.41407838, 120.92365714,  71.62887942,\n",
       "        92.75001634,  97.56188618, 106.38712842, 109.21805803,\n",
       "        95.68420215, 119.78144915, 106.29507558, 149.35302113,\n",
       "        69.83357026, 112.41201326,  79.09734925,  84.03982365,\n",
       "       139.70169183, 134.89628297,  62.87629039,  95.54452602,\n",
       "        98.68304305,  57.36575783,  99.02338977, 107.86682434,\n",
       "       104.3453029 ,  60.11212461, 122.1541647 , 104.89087953,\n",
       "        98.76175941,  84.92214079, 114.23918033, 118.36538303,\n",
       "        90.35813722, 101.79175225, 116.53997245,  60.9097576 ,\n",
       "       102.34951322,  61.85086224,  81.5418147 , 109.39502868,\n",
       "        97.11266474,  91.99723296,  94.08032294, 116.96417218,\n",
       "       114.1366091 ,  84.25462148, 105.8588145 ,  90.58385497,\n",
       "       148.08651212,  85.21286523,  93.74342485,  93.02236164,\n",
       "        91.21947528, 102.82208336, 105.4609864 ,  67.62858504,\n",
       "        88.53773277,  73.59104908, 124.72410652, 149.30650164,\n",
       "       127.66464459, 106.92466231, 120.45032214, 103.33620534,\n",
       "       133.13433249, 113.35779218,  95.40106712,  77.40897611,\n",
       "        87.20074792, 106.27661043,  75.48328039,  95.56413727,\n",
       "       126.7985262 , 100.58619422, 139.70771492, 128.94331201,\n",
       "        94.24741173,  72.81378854,  99.0391735 ,  90.3842532 ,\n",
       "       107.55506172, 132.28815948,  77.5379193 ,  92.22544106,\n",
       "       106.64699899, 122.69946346, 110.21428823, 108.28595282,\n",
       "       126.89098847, 109.87030634,  95.25991631, 101.145703  ,\n",
       "        85.85857106, 110.93329675, 118.85000818,  40.40806458,\n",
       "       124.36297701,  98.86958554, 109.21776905, 113.24748023,\n",
       "        54.09793342,  76.08141377,  93.33797676,  84.17218458,\n",
       "       105.48345562,  89.70180155,  65.77857606, 112.24594625,\n",
       "       122.00258748, 111.28705053,  85.74401126,  94.78281043,\n",
       "       110.96856133, 112.063981  , 120.13722277,  94.11147985,\n",
       "        71.5823897 ,  86.42106451, 110.67769619, 114.87948808,\n",
       "       144.50099278, 102.3436284 , 104.89229041,  96.45402355,\n",
       "        91.88540945, 115.63550381, 107.06955228,  95.85441029,\n",
       "        78.40605232,  97.53860343,  92.18035629, 125.10347463,\n",
       "       118.94252156,  79.55378615, 123.34336737,  88.56046373])"
      ]
     },
     "execution_count": 10,
     "metadata": {},
     "output_type": "execute_result"
    }
   ],
   "source": [
    "# Creating dataset \n",
    "np.random.seed(10) # tomorrow\n",
    "data = np.random.normal(100, 20, 200) \n",
    "data"
   ]
  },
  {
   "cell_type": "code",
   "execution_count": 9,
   "metadata": {},
   "outputs": [
    {
     "data": {
      "image/png": "[encoded data removed]",
      "text/plain": [
       "<Figure size 432x288 with 1 Axes>"
      ]
     },
     "metadata": {
      "needs_background": "light"
     },
     "output_type": "display_data"
    }
   ],
   "source": [
    "# Creating plot \n",
    "plt.boxplot(data) \n",
    "# show plot \n",
    "plt.show()"
   ]
  }
 ],
 "metadata": {
  "kernelspec": {
   "display_name": "Python 3",
   "language": "python",
   "name": "python3"
  },
  "language_info": {
   "codemirror_mode": {
    "name": "ipython",
    "version": 3
   },
   "file_extension": ".py",
   "mimetype": "text/x-python",
   "name": "python",
   "nbconvert_exporter": "python",
   "pygments_lexer": "ipython3",
   "version": "3.8.5"
  }
 },
 "nbformat": 4,
 "nbformat_minor": 4
}
